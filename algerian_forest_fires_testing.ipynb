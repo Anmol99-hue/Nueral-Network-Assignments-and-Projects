{
 "cells": [
  {
   "cell_type": "code",
   "execution_count": 2,
   "id": "67b58e1a",
   "metadata": {},
   "outputs": [],
   "source": [
    "import pickle\n",
    "import pandas as pd"
   ]
  },
  {
   "cell_type": "code",
   "execution_count": 6,
   "id": "0c3e5637",
   "metadata": {},
   "outputs": [],
   "source": [
    "# Creating a dictionary containing unseen data for various features related to fire weather\n",
    "unseen_data={\n",
    "    'Temperature':[22,26,29.5,30.5,33,37.5,38.4,21.6,28,31.8],\n",
    "    'RH':[21,24,65,86,40,65,48,30,35.8,42],\n",
    "    'Ws':[22,7.6,10,11.8,21,25,14,17.5,24,18],\n",
    "    'Rain':[1.9,4,7,9.2,10,13.5,3.4,12.6,10,8.5],\n",
    "    'FFMC':[32,49,57,59.5,29.7,91,84,80.2,72,55],\n",
    "    'DMC':[3,51,49.3,24,27,60.5,29.4,54.8,30,9],\n",
    "    'DC':[100,10.3,198.4,95.5,179,142,157,134,175,170],\n",
    "    'ISI':[4.5,7.8,16,13.4,1.8,14,3.5,9,11,12],\n",
    "    'BUI':[54.4,61,12,22.5,4.5,44,68,18.6,55,20],\n",
    "    'FWI':[3.8,7,9.6,31,27,23.9,22,17.5,19.7,10.3]\n",
    "}"
   ]
  },
  {
   "cell_type": "markdown",
   "id": "c9f89e7b-fec4-4535-9c06-670fc3769843",
   "metadata": {},
   "source": [
    "#### These code cells imports the pickle and pandas libraries for data handling. It then creates a dictionary named unseen_data, which contains various features related to fire weather, such as temperature, relative humidity (RH), wind speed (Ws), rainfall, and several indices (FFMC, DMC, DC, ISI, BUI, FWI). Each feature is represented as a list of values, reflecting different conditions. This dataset can be used for predictive modeling or analysis related to fir"
   ]
  },
  {
   "cell_type": "code",
   "execution_count": 8,
   "id": "206fbce1",
   "metadata": {},
   "outputs": [
    {
     "name": "stdout",
     "output_type": "stream",
     "text": [
      "   Temperature    RH    Ws  Rain  FFMC   DMC     DC   ISI   BUI   FWI\n",
      "0         22.0  21.0  22.0   1.9  32.0   3.0  100.0   4.5  54.4   3.8\n",
      "1         26.0  24.0   7.6   4.0  49.0  51.0   10.3   7.8  61.0   7.0\n",
      "2         29.5  65.0  10.0   7.0  57.0  49.3  198.4  16.0  12.0   9.6\n",
      "3         30.5  86.0  11.8   9.2  59.5  24.0   95.5  13.4  22.5  31.0\n",
      "4         33.0  40.0  21.0  10.0  29.7  27.0  179.0   1.8   4.5  27.0\n",
      "5         37.5  65.0  25.0  13.5  91.0  60.5  142.0  14.0  44.0  23.9\n",
      "6         38.4  48.0  14.0   3.4  84.0  29.4  157.0   3.5  68.0  22.0\n",
      "7         21.6  30.0  17.5  12.6  80.2  54.8  134.0   9.0  18.6  17.5\n",
      "8         28.0  35.8  24.0  10.0  72.0  30.0  175.0  11.0  55.0  19.7\n",
      "9         31.8  42.0  18.0   8.5  55.0   9.0  170.0  12.0  20.0  10.3\n"
     ]
    }
   ],
   "source": [
    "# Converting the dictionary into a DataFrame\n",
    "df = pd.DataFrame(unseen_data)\n",
    "\n",
    "# Displaying the DataFrame\n",
    "print(df)"
   ]
  },
  {
   "cell_type": "markdown",
   "id": "7ceb4bfd-c6f4-48da-9eac-98edcae725c1",
   "metadata": {},
   "source": [
    "#### This code snippet converts the unseen_data dictionary into a Pandas DataFrame named df. A DataFrame is a two-dimensional, labeled data structure that resembles a table, making it easier to manipulate and analyze data. The print(df) statement outputs the DataFrame to the console, displaying the values of each feature (such as Temperature, RH, and FWI) organized into rows and columns. This structured format facilitates further data analysis or modeling tasks."
   ]
  },
  {
   "cell_type": "code",
   "execution_count": 10,
   "id": "1fd10c2b",
   "metadata": {},
   "outputs": [
    {
     "name": "stdout",
     "output_type": "stream",
     "text": [
      "Predictions from Polynomial Regression: [-0.29769916 -0.26380409 -0.13973195  1.29181867 -0.76871682  1.1705946\n",
      "  1.30867033  0.10711765  0.92438581  0.34364572]\n",
      "Predictions from Ridge Regression: [-0.84386306 -0.49348145  0.56484099  1.34212069 -0.29760301  1.43175028\n",
      "  0.89447181  0.65346663  0.74774098  0.42744786]\n",
      "Predictions from Lasso Regression: [0.56701031 0.56701031 0.56701031 0.56701031 0.56701031 0.56701031\n",
      " 0.56701031 0.56701031 0.56701031 0.56701031]\n",
      "Predictions from Linear Regression: [-0.29769916 -0.26380409 -0.13973195  1.29181867 -0.76871682  1.1705946\n",
      "  1.30867033  0.10711765  0.92438581  0.34364572]\n",
      "Predictions from ElasticNet: [0.56701031 0.56701031 0.56701031 0.56701031 0.56701031 0.56701031\n",
      " 0.56701031 0.56701031 0.56701031 0.56701031]\n",
      "Predictions from Ridge CV: [-0.84386306 -0.49348145  0.56484099  1.34212069 -0.29760301  1.43175028\n",
      "  0.89447181  0.65346663  0.74774098  0.42744786]\n",
      "Predictions from Lasso CV: [0.56701031 0.56701031 0.56701031 0.56701031 0.56701031 0.56701031\n",
      " 0.56701031 0.56701031 0.56701031 0.56701031]\n",
      "Predictions from ElasticNet CV: [0.56701031 0.56701031 0.56701031 0.56701031 0.56701031 0.56701031\n",
      " 0.56701031 0.56701031 0.56701031 0.56701031]\n",
      "Predictions from Hyperparameter Tuned Ridge: [-0.84386306 -0.49348145  0.56484099  1.34212069 -0.29760301  1.43175028\n",
      "  0.89447181  0.65346663  0.74774098  0.42744786]\n",
      "Predictions from Hyperparameter Tuned Lasso: [0.56701031 0.56701031 0.56701031 0.56701031 0.56701031 0.56701031\n",
      " 0.56701031 0.56701031 0.56701031 0.56701031]\n",
      "Predictions from Hyperparameter Tuned ElasticNet: [0.56701031 0.56701031 0.56701031 0.56701031 0.56701031 0.56701031\n",
      " 0.56701031 0.56701031 0.56701031 0.56701031]\n",
      "   Polynomial Regression  Ridge Regression  Lasso Regression  \\\n",
      "0              -0.297699         -0.843863           0.56701   \n",
      "1              -0.263804         -0.493481           0.56701   \n",
      "2              -0.139732          0.564841           0.56701   \n",
      "3               1.291819          1.342121           0.56701   \n",
      "4              -0.768717         -0.297603           0.56701   \n",
      "5               1.170595          1.431750           0.56701   \n",
      "6               1.308670          0.894472           0.56701   \n",
      "7               0.107118          0.653467           0.56701   \n",
      "8               0.924386          0.747741           0.56701   \n",
      "9               0.343646          0.427448           0.56701   \n",
      "\n",
      "   Linear Regression  ElasticNet  Ridge CV  Lasso CV  ElasticNet CV  \\\n",
      "0          -0.297699     0.56701 -0.843863   0.56701        0.56701   \n",
      "1          -0.263804     0.56701 -0.493481   0.56701        0.56701   \n",
      "2          -0.139732     0.56701  0.564841   0.56701        0.56701   \n",
      "3           1.291819     0.56701  1.342121   0.56701        0.56701   \n",
      "4          -0.768717     0.56701 -0.297603   0.56701        0.56701   \n",
      "5           1.170595     0.56701  1.431750   0.56701        0.56701   \n",
      "6           1.308670     0.56701  0.894472   0.56701        0.56701   \n",
      "7           0.107118     0.56701  0.653467   0.56701        0.56701   \n",
      "8           0.924386     0.56701  0.747741   0.56701        0.56701   \n",
      "9           0.343646     0.56701  0.427448   0.56701        0.56701   \n",
      "\n",
      "   Hyperparameter Tuned Ridge  Hyperparameter Tuned Lasso  \\\n",
      "0                   -0.843863                     0.56701   \n",
      "1                   -0.493481                     0.56701   \n",
      "2                    0.564841                     0.56701   \n",
      "3                    1.342121                     0.56701   \n",
      "4                   -0.297603                     0.56701   \n",
      "5                    1.431750                     0.56701   \n",
      "6                    0.894472                     0.56701   \n",
      "7                    0.653467                     0.56701   \n",
      "8                    0.747741                     0.56701   \n",
      "9                    0.427448                     0.56701   \n",
      "\n",
      "   Hyperparameter Tuned ElasticNet  \n",
      "0                          0.56701  \n",
      "1                          0.56701  \n",
      "2                          0.56701  \n",
      "3                          0.56701  \n",
      "4                          0.56701  \n",
      "5                          0.56701  \n",
      "6                          0.56701  \n",
      "7                          0.56701  \n",
      "8                          0.56701  \n",
      "9                          0.56701  \n"
     ]
    }
   ],
   "source": [
    "# Initialize a dictionary to store model predictions\n",
    "model_predictions = {}\n",
    "\n",
    "# List of loaded models\n",
    "models = {\n",
    "    'Polynomial Regression': poly_model,  \n",
    "    'Ridge Regression': ridge,\n",
    "    'Lasso Regression': lasso,\n",
    "    'Linear Regression': lr,\n",
    "    'ElasticNet': en,\n",
    "    'Ridge CV': cv_ridge,\n",
    "    'Lasso CV': cv_lasso,\n",
    "    'ElasticNet CV': cv_elasticnet,\n",
    "    'Hyperparameter Tuned Ridge': hpt_ridge,\n",
    "    'Hyperparameter Tuned Lasso': hpt_lasso,\n",
    "    'Hyperparameter Tuned ElasticNet': hpt_elasticnet,\n",
    "}\n",
    "\n",
    "# Scale the data using the loaded scaler\n",
    "scaled_data = sc.transform(df)\n",
    "\n",
    "# Iterate over each model and make predictions\n",
    "for model_name, model in models.items():\n",
    "    try:\n",
    "        if model_name == 'Polynomial Regression':\n",
    "            # Transform the scaled data with PolynomialFeatures\n",
    "            scaled_data_poly = poly.transform(scaled_data)  # Apply polynomial feature transformation\n",
    "            predictions = model.predict(scaled_data_poly)   # Make predictions with the transformed data\n",
    "        else:\n",
    "            predictions = model.predict(scaled_data)  # Make predictions on the scaled data\n",
    "        model_predictions[model_name] = predictions\n",
    "        print(f\"Predictions from {model_name}: {predictions}\")\n",
    "    except Exception as e:\n",
    "        print(f\"Error with model {model_name}: {e}\")\n",
    "\n",
    "# Convert the predictions into a DataFrame\n",
    "predictions_df = pd.DataFrame(model_predictions)\n",
    "\n",
    "# Display the predictions DataFrame\n",
    "print(predictions_df)"
   ]
  },
  {
   "cell_type": "markdown",
   "id": "7e484c9a-8c26-4e8d-a395-839b7470629e",
   "metadata": {},
   "source": [
    "#### This code initializes a dictionary, model_predictions, to store predictions from various pre-trained regression models, including Polynomial, Ridge, Lasso, Linear, and ElasticNet regressions, along with their hyperparameter-tuned versions. It scales the input data using a pre-loaded scaler and iterates through each model to make predictions. For the Polynomial Regression, it applies polynomial feature transformation before prediction. The predictions are stored in model_predictions, which is then converted into a DataFrame and displayed, showing the predicted values from each model.\n",
    "\n",
    "\n",
    "\n",
    "\n",
    "\n",
    "\n"
   ]
  },
  {
   "cell_type": "code",
   "execution_count": null,
   "id": "947ab3d8",
   "metadata": {},
   "outputs": [],
   "source": []
  }
 ],
 "metadata": {
  "kernelspec": {
   "display_name": "Python 3 (ipykernel)",
   "language": "python",
   "name": "python3"
  },
  "language_info": {
   "codemirror_mode": {
    "name": "ipython",
    "version": 3
   },
   "file_extension": ".py",
   "mimetype": "text/x-python",
   "name": "python",
   "nbconvert_exporter": "python",
   "pygments_lexer": "ipython3",
   "version": "3.12.4"
  }
 },
 "nbformat": 4,
 "nbformat_minor": 5
}
